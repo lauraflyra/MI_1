{
 "cells": [
  {
   "cell_type": "markdown",
   "metadata": {},
   "source": [
    "# Machine Intelligence 1\n",
    "\n",
    "$\\Large{Group: ALT}$  \n",
    "\n",
    "## Gradient methods for parameter optimization\n",
    "### Comparison of gradient descent methods"
   ]
  },
  {
   "cell_type": "code",
   "execution_count": 1,
   "metadata": {},
   "outputs": [],
   "source": [
    "import math\n",
    "import numpy as np\n",
    "import itertools\n",
    "from tabulate import tabulate\n",
    "import matplotlib.pyplot as plt\n",
    "import time\n",
    "import random"
   ]
  },
  {
   "cell_type": "code",
   "execution_count": 2,
   "metadata": {},
   "outputs": [],
   "source": [
    "training_data = np.array(([-1,0.1],[0.3,0.5],[2,0.5]))"
   ]
  },
  {
   "cell_type": "code",
   "execution_count": 3,
   "metadata": {
    "scrolled": true
   },
   "outputs": [],
   "source": [
    "x_pre = training_data[:,0]\n",
    "y = training_data[:,1]\n",
    "x = np.vstack((np.ones(len(x_pre)),x_pre))"
   ]
  },
  {
   "cell_type": "code",
   "execution_count": 4,
   "metadata": {},
   "outputs": [],
   "source": [
    "weights_in = np.array([-0.45,0.2])"
   ]
  },
  {
   "cell_type": "code",
   "execution_count": 5,
   "metadata": {},
   "outputs": [
    {
     "data": {
      "image/png": "[encoded data removed]",
      "text/plain": [
       "<Figure size 432x288 with 1 Axes>"
      ]
     },
     "metadata": {
      "needs_background": "light"
     },
     "output_type": "display_data"
    }
   ],
   "source": [
    "plt.scatter(x_pre,y)\n",
    "plt.show()"
   ]
  },
  {
   "cell_type": "markdown",
   "metadata": {},
   "source": [
    "__a) Gradient Descent: Implement a steepest descent procedure.__"
   ]
  },
  {
   "cell_type": "code",
   "execution_count": 6,
   "metadata": {},
   "outputs": [],
   "source": [
    "t_max = 3000\n",
    "eta = 0.1\n",
    "small_error = 1e-6\n",
    "normalize = 1./len(y)"
   ]
  },
  {
   "cell_type": "code",
   "execution_count": 7,
   "metadata": {},
   "outputs": [],
   "source": [
    "def gradient_quadratic(weights,x_in, y_true):\n",
    "    Hessian =np.dot(x_in,x_in.T)\n",
    "    gradient = np.dot(Hessian,weights) - np.dot(x_in,y_true.T)\n",
    "    return gradient"
   ]
  },
  {
   "cell_type": "code",
   "execution_count": 8,
   "metadata": {},
   "outputs": [],
   "source": [
    "def quad_error(y_calc,yT):\n",
    "    quad_error = np.sum(0.5*(yT - y_calc)**2)\n",
    "    return quad_error"
   ]
  },
  {
   "cell_type": "code",
   "execution_count": 9,
   "metadata": {},
   "outputs": [],
   "source": [
    "def gradient_descent(weights,x_in, y_true,eta):\n",
    "    E_previous = 0.\n",
    "    t = 0\n",
    "    weight_updates = np.zeros((2,t_max+1))\n",
    "    weight_updates[:,0] = weights_in\n",
    "    while(True):\n",
    "        delta_ET = 0.\n",
    "        y_out = np.dot(weight_updates.T[t],x_in)\n",
    "        sum_e = quad_error(y_out,y_true)\n",
    "        Et = sum_e*normalize\n",
    "        delta_ET = Et-E_previous\n",
    "        error_test = abs(delta_ET)/Et\n",
    "        if error_test < small_error or t >= t_max:\n",
    "            print(\"Stopped after t \",t,\" iterations\")\n",
    "            break\n",
    "        else:\n",
    "            E_previous = Et\n",
    "            t += 1\n",
    "            weight_updates[:,t] = weight_updates[:,t-1] - eta*gradient_quadratic(weight_updates[:,t-1],x_in,y_true)\n",
    "        \n",
    "    return [weight_updates,t]"
   ]
  },
  {
   "cell_type": "code",
   "execution_count": 10,
   "metadata": {
    "scrolled": true
   },
   "outputs": [
    {
     "name": "stdout",
     "output_type": "stream",
     "text": [
      "Stopped after t  32  iterations\n"
     ]
    }
   ],
   "source": [
    "[w_gdescent,t_gdescent] = gradient_descent(weights_in,x,y,eta)\n",
    "w_gdescent = w_gdescent[:,:t_gdescent]"
   ]
  },
  {
   "cell_type": "code",
   "execution_count": 11,
   "metadata": {},
   "outputs": [
    {
     "data": {
      "image/png": "[encoded data removed]",
      "text/plain": [
       "<Figure size 720x504 with 2 Axes>"
      ]
     },
     "metadata": {
      "needs_background": "light"
     },
     "output_type": "display_data"
    }
   ],
   "source": [
    "plt.figure(figsize=(10,7))\n",
    "\n",
    "plt.subplot(121)\n",
    "plt.scatter(w_gdescent[1],w_gdescent[0],color = \"orange\")\n",
    "plt.xlabel(\"$w_1$\")\n",
    "plt.ylabel(\"$w_0$\",rotation=\"horizontal\")\n",
    "plt.title(\"$w_0$ vs $w_1$ for all iterations for gradient descent\")\n",
    "\n",
    "plt.subplot(122)\n",
    "plt.scatter(np.arange(t_gdescent),w_gdescent[0],color = \"orange\", label = \"$w_0$\")\n",
    "plt.scatter(np.arange(t_gdescent),w_gdescent[1],color = \"red\", label = \"$w_1$\")\n",
    "plt.legend()\n",
    "plt.xlabel(\"iterations t\")\n",
    "plt.ylabel(\"$w_i$\",rotation=\"horizontal\")\n",
    "plt.title(\"$w_i$ vs iterations t for gradient descent\")\n",
    "\n",
    "plt.subplots_adjust(bottom=0.25, top=0.75,wspace = 0.2)\n",
    "\n",
    "plt.show()"
   ]
  },
  {
   "cell_type": "markdown",
   "metadata": {},
   "source": [
    "__b) Line Search: Implement a line search procedure.__"
   ]
  },
  {
   "cell_type": "code",
   "execution_count": 12,
   "metadata": {},
   "outputs": [],
   "source": [
    "def calc_eta_linesearch(gradient,x_in):\n",
    "    Hessian =np.dot(x_in,x_in.T)\n",
    "    numerator = np.dot(gradient.T,gradient)\n",
    "    denominator_p = np.dot(gradient.T,Hessian)\n",
    "    denominator = np.dot(denominator_p,gradient)\n",
    "    eta_line = numerator/denominator\n",
    "    return eta_line"
   ]
  },
  {
   "cell_type": "code",
   "execution_count": 13,
   "metadata": {},
   "outputs": [],
   "source": [
    "def line_search(weights,x_in, y_true):\n",
    "    E_previous = 0.\n",
    "    t = 0\n",
    "    weight_updates = np.zeros((2,t_max+1))\n",
    "    weight_updates[:,0] = weights_in\n",
    "    while(True):\n",
    "        delta_ET = 0.\n",
    "        grad_w = gradient_quadratic(weight_updates[:,t],x_in,y_true)\n",
    "        eta_line = calc_eta_linesearch(grad_w,x_in) \n",
    "        y_out = np.dot(weight_updates.T[t],x_in)\n",
    "        sum_e = quad_error(y_out,y_true)\n",
    "        Et = sum_e*normalize\n",
    "        delta_ET = Et-E_previous\n",
    "        error_test = abs(delta_ET)/Et\n",
    "        if error_test < small_error or t >= t_max:\n",
    "            print(\"Stopped after t \",t,\" iterations\")\n",
    "            break\n",
    "        else:\n",
    "            E_previous = Et\n",
    "            t += 1\n",
    "            weight_updates[:,t] = weight_updates[:,t-1] - eta_line*gradient_quadratic(weight_updates[:,t-1],x_in,y_true)\n",
    "        \n",
    "    return [weight_updates,t]"
   ]
  },
  {
   "cell_type": "code",
   "execution_count": 14,
   "metadata": {},
   "outputs": [
    {
     "name": "stdout",
     "output_type": "stream",
     "text": [
      "Stopped after t  11  iterations\n"
     ]
    }
   ],
   "source": [
    "[w_line,t_line] = line_search(weights_in,x,y)\n",
    "w_line = w_line[:,:t_line]"
   ]
  },
  {
   "cell_type": "code",
   "execution_count": 15,
   "metadata": {
    "scrolled": true
   },
   "outputs": [
    {
     "data": {
      "image/png": "[encoded data removed]",
      "text/plain": [
       "<Figure size 720x504 with 2 Axes>"
      ]
     },
     "metadata": {
      "needs_background": "light"
     },
     "output_type": "display_data"
    }
   ],
   "source": [
    "plt.figure(figsize=(10,7))\n",
    "\n",
    "plt.subplot(121)\n",
    "plt.scatter(w_line[1],w_line[0],color = \"orange\")\n",
    "plt.xlabel(\"$w_1$\")\n",
    "plt.ylabel(\"$w_0$\",rotation=\"horizontal\")\n",
    "plt.title(\"$w_0$ vs $w_1$ for all iterations for line search\")\n",
    "\n",
    "plt.subplot(122)\n",
    "plt.scatter(np.arange(t_line),w_line[0],color = \"orange\", label = \"$w_0$\")\n",
    "plt.scatter(np.arange(t_line),w_line[1],color = \"red\", label = \"$w_1$\")\n",
    "plt.legend()\n",
    "plt.xlabel(\"iterations t\")\n",
    "plt.ylabel(\"$w_i$\",rotation=\"horizontal\")\n",
    "plt.title(\"$w_i$ vs iterations t for line search\")\n",
    "\n",
    "plt.subplots_adjust(bottom=0.25, top=0.75,wspace = 0.2)\n",
    "\n",
    "plt.show()"
   ]
  },
  {
   "cell_type": "markdown",
   "metadata": {},
   "source": [
    "__c) Conjugate Gradient: Implement a conjugate gradient procedure.__"
   ]
  },
  {
   "cell_type": "code",
   "execution_count": 16,
   "metadata": {},
   "outputs": [],
   "source": [
    "def calc_eta_conj(gradient,x_in,conj_direction):\n",
    "    Hessian =np.dot(x_in,x_in.T)\n",
    "    numerator = -np.dot(conj_direction.T,gradient)\n",
    "    denominator_p = np.dot(conj_direction.T,Hessian)\n",
    "    denominator = np.dot(denominator_p,conj_direction)\n",
    "    if numerator == 0:\n",
    "        return numerator\n",
    "    else:\n",
    "        eta_conj = numerator/denominator\n",
    "    return eta_conj"
   ]
  },
  {
   "cell_type": "code",
   "execution_count": 17,
   "metadata": {},
   "outputs": [],
   "source": [
    "def calc_beta_conj(gradient_t1,gradient_t):\n",
    "    numerator = -np.dot(gradient_t1.T,gradient_t1)\n",
    "    denominator = np.dot(gradient_t,gradient_t)\n",
    "    if numerator == 0:\n",
    "        return numerator\n",
    "    else:\n",
    "        beta_conj = numerator/denominator\n",
    "    return beta_conj"
   ]
  },
  {
   "cell_type": "code",
   "execution_count": 18,
   "metadata": {},
   "outputs": [],
   "source": [
    "def conjugate_gradient(weights,x_in, y_true):\n",
    "    E_previous = 0.\n",
    "    t = 0\n",
    "    weight_updates = np.zeros((2,t_max+1))\n",
    "    weight_updates[:,0] = weights_in\n",
    "    g_t = gradient_quadratic(weights_in,x_in,y_true)\n",
    "    conj_direction = -g_t\n",
    "    while(True):\n",
    "        delta_ET = 0.\n",
    "        y_out = np.dot(weight_updates.T[t],x_in)  \n",
    "        sum_e = quad_error(y_out,y_true)\n",
    "        Et = sum_e*normalize\n",
    "        delta_ET = Et-E_previous\n",
    "        error_test = abs(delta_ET)/Et\n",
    "        if error_test < small_error or t >= t_max:\n",
    "            print(\"Stopped after t \",t,\" iterations\")\n",
    "            break\n",
    "        else:\n",
    "            E_previous = Et\n",
    "            eta_conj = calc_eta_conj(g_t,x_in,conj_direction)\n",
    "            weight_updates[:,t+1] = weight_updates[:,t] + eta_conj*conj_direction\n",
    "            g_t1 = gradient_quadratic(weight_updates[:,t+1],x_in,y_true)\n",
    "            beta_conj = calc_beta_conj(g_t1,g_t)\n",
    "            conj_direction = g_t1 + beta_conj*conj_direction\n",
    "\n",
    "            g_t = g_t1\n",
    "            t += 1\n",
    "    return [weight_updates,t]"
   ]
  },
  {
   "cell_type": "code",
   "execution_count": 19,
   "metadata": {},
   "outputs": [
    {
     "name": "stdout",
     "output_type": "stream",
     "text": [
      "Stopped after t  3  iterations\n"
     ]
    },
    {
     "data": {
      "text/plain": [
       "array([[-0.45      ,  0.12145273,  0.31178203],\n",
       "       [ 0.2       ,  0.36099833,  0.12665685]])"
      ]
     },
     "execution_count": 19,
     "metadata": {},
     "output_type": "execute_result"
    }
   ],
   "source": [
    "[w_conj,t_conj] = conjugate_gradient(weights_in,x,y)\n",
    "w_conj = w_conj[:,:t_conj]\n",
    "w_conj"
   ]
  },
  {
   "cell_type": "code",
   "execution_count": 20,
   "metadata": {},
   "outputs": [
    {
     "data": {
      "image/png": "[encoded data removed]",
      "text/plain": [
       "<Figure size 720x504 with 2 Axes>"
      ]
     },
     "metadata": {
      "needs_background": "light"
     },
     "output_type": "display_data"
    }
   ],
   "source": [
    "plt.figure(figsize=(10,7))\n",
    "\n",
    "plt.subplot(121)\n",
    "plt.scatter(w_conj[1],w_conj[0],color = \"orange\")\n",
    "plt.xlabel(\"$w_1$\")\n",
    "plt.ylabel(\"$w_0$\",rotation=\"horizontal\")\n",
    "plt.title(\"$w_0$ vs $w_1$ for all iterations for conjugate gradient\")\n",
    "\n",
    "plt.subplot(122)\n",
    "plt.scatter(np.arange(t_conj),w_conj[0],color = \"orange\", label = \"$w_0$\")\n",
    "plt.scatter(np.arange(t_conj),w_conj[1],color = \"red\", label = \"$w_1$\")\n",
    "plt.legend()\n",
    "plt.xlabel(\"iterations t\")\n",
    "plt.ylabel(\"$w_i$\",rotation=\"horizontal\")\n",
    "plt.title(\"$w_i$ vs iterations t for conjugate gradient\")\n",
    "\n",
    "plt.subplots_adjust(bottom=0.25, top=0.75,wspace = 0.2)\n",
    "\n",
    "plt.show()"
   ]
  },
  {
   "cell_type": "code",
   "execution_count": null,
   "metadata": {},
   "outputs": [],
   "source": []
  },
  {
   "cell_type": "code",
   "execution_count": null,
   "metadata": {},
   "outputs": [],
   "source": []
  }
 ],
 "metadata": {
  "kernelspec": {
   "display_name": "Python 3",
   "language": "python",
   "name": "python3"
  },
  "language_info": {
   "codemirror_mode": {
    "name": "ipython",
    "version": 3
   },
   "file_extension": ".py",
   "mimetype": "text/x-python",
   "name": "python",
   "nbconvert_exporter": "python",
   "pygments_lexer": "ipython3",
   "version": "3.8.3"
  }
 },
 "nbformat": 4,
 "nbformat_minor": 4
}
