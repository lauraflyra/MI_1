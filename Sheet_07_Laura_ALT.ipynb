{
 "cells": [
  {
   "cell_type": "markdown",
   "metadata": {},
   "source": [
    "# Radial Basis Function Networks\n",
    "- Group: Alt"
   ]
  },
  {
   "cell_type": "code",
   "execution_count": 1,
   "metadata": {},
   "outputs": [],
   "source": [
    "import numpy as np \n",
    "import matplotlib.pyplot as plt"
   ]
  },
  {
   "cell_type": "code",
   "execution_count": 2,
   "metadata": {},
   "outputs": [],
   "source": [
    "var = 0.1\n",
    "\n",
    "I = np.identity(2)\n",
    "cov = I*var\n",
    "\n",
    "mean1 = np.array([0,1])\n",
    "mean2 = np.array([1,0])\n",
    "mean3 = np.array([0,0])\n",
    "mean4 = np.array([1,1])\n",
    "\n",
    "choice_y0 = np.random.uniform(low=0.0, high=1.0, size=60)\n",
    "n1 = choice_y0[choice_y0 >= 0.5].shape[0]\n",
    "\n",
    "x1 = np.random.multivariate_normal(mean1, cov, size=n1)\n",
    "x2 = np.random.multivariate_normal(mean2, cov, size=60-n1)\n",
    "\n",
    "choice_y1 = np.random.uniform(low=0.0, high=1.0, size=60)\n",
    "n2 = choice_y0[choice_y1 >= 0.5].shape[0]\n",
    "\n",
    "x3 = np.random.multivariate_normal(mean3, cov, size=n2)\n",
    "x4 = np.random.multivariate_normal(mean4, cov, size=60-n2)"
   ]
  },
  {
   "cell_type": "code",
   "execution_count": 3,
   "metadata": {},
   "outputs": [],
   "source": [
    "x_train = np.concatenate((x1,x2,x3,x4))\n",
    "y_train = np.zeros(120)\n",
    "y_train[60:] = 1\n",
    "\n",
    "data_train = np.concatenate((x_train,np.array([y_train]).T),axis=1)"
   ]
  },
  {
   "cell_type": "code",
   "execution_count": 4,
   "metadata": {},
   "outputs": [
    {
     "data": {
      "image/png": "[encoded data removed]",
      "text/plain": [
       "<Figure size 432x288 with 1 Axes>"
      ]
     },
     "metadata": {
      "needs_background": "light"
     },
     "output_type": "display_data"
    }
   ],
   "source": [
    "plt.scatter(x_train[y_train==0].T[0],x_train[y_train==0].T[1],label=\"y=0\")\n",
    "plt.scatter(x_train[y_train==1].T[0],x_train[y_train==1].T[1],label=\"y=1\")\n",
    "plt.xlabel(\"$x_1$\",fontsize = 15)\n",
    "plt.ylabel(\"$x_2$\",fontsize = 15)\n",
    "plt.title(\"Input samples, color representing labels\",fontsize = 15)\n",
    "plt.legend()\n",
    "plt.show()"
   ]
  },
  {
   "cell_type": "code",
   "execution_count": 48,
   "metadata": {},
   "outputs": [],
   "source": [
    "def euclidian(a,b):\n",
    "    dist = np.sqrt(np.sum((a-b)**2,axis=1))\n",
    "    return dist\n",
    "\n",
    "def kNN(x,y,query,k):\n",
    "    dist_query = euclidian(x,query)\n",
    "    a = np.argsort(dist_query)\n",
    "    b = np.argsort(a)\n",
    "    knn = x[b][:k]\n",
    "    y_knn = y[b][:k]\n",
    "    #label_query = 1\n",
    "    label_query = np.argmax(np.bincount(y_knn.astype(int)))\n",
    "    #if np.mean(y_knn) < 0.5:\n",
    "    #    label_query = 0\n",
    "    return [label_query,knn]\n",
    "    \n",
    "    "
   ]
  },
  {
   "cell_type": "code",
   "execution_count": null,
   "metadata": {},
   "outputs": [],
   "source": [
    "def kneighbors(X_test, return_distance=False):\n",
    "\n",
    "    n_neighbors = 5\n",
    "    dist = []\n",
    "    neigh_ind = []\n",
    "\n",
    "    point_dist = [euclidian_distance(x_test, X_train) for x_test in X_test]\n",
    "\n",
    "    for row in point_dist:\n",
    "        enum_neigh = enumerate(row)\n",
    "        sorted_neigh = sorted(enum_neigh, key=lambda x: x[1])[:n_neighbors]\n",
    "\n",
    "        ind_list = [tup[0] for tup in sorted_neigh]\n",
    "        dist_list = [tup[1] for tup in sorted_neigh]\n",
    "\n",
    "        dist.append(dist_list)\n",
    "        neigh_ind.append(ind_list)\n",
    "\n",
    "    if return_distance:\n",
    "        return np.array(dist), np.array(neigh_ind)\n",
    "\n",
    "    return np.array(neigh_ind)"
   ]
  },
  {
   "cell_type": "code",
   "execution_count": 59,
   "metadata": {
    "scrolled": true
   },
   "outputs": [
    {
     "data": {
      "text/plain": [
       "array([1.56279803, 2.22189337])"
      ]
     },
     "execution_count": 59,
     "metadata": {},
     "output_type": "execute_result"
    }
   ],
   "source": [
    "#creating the query points for the kNN\n",
    "\n",
    "x1_min,x1_max = np.min(x_train.T[0]),np.max(x_train.T[0])\n",
    "x2_min,x2_max = np.min(x_train.T[1]),np.max(x_train.T[1])\n",
    "\n",
    "x1_lim_min = -x1_min* np.random.random_sample() + x1_min\n",
    "x1_lim_max = x1_max* np.random.random_sample()\n",
    "\n",
    "x2_lim_min = -x2_min* np.random.random_sample() + x2_min\n",
    "x2_lim_max = x2_max* np.random.random_sample()\n",
    "\n",
    "n_query = 100\n",
    "x1_query = np.linspace(x1_lim_min-1, x1_lim_max+1, n_query)\n",
    "x2_query = np.linspace(x2_lim_min-1, x2_lim_max+1, n_query)\n",
    "x1v_query, x2v_query = np.meshgrid(x1_query, x2_query)\n",
    "query_coord = np.c_[x1v_query.ravel(), x2v_query.ravel()]"
   ]
  },
  {
   "cell_type": "code",
   "execution_count": null,
   "metadata": {
    "scrolled": true
   },
   "outputs": [],
   "source": []
  },
  {
   "cell_type": "code",
   "execution_count": 70,
   "metadata": {},
   "outputs": [
    {
     "data": {
      "text/plain": [
       "3.6159076304322215"
      ]
     },
     "execution_count": 70,
     "metadata": {},
     "output_type": "execute_result"
    }
   ],
   "source": [
    "x_train[0]\n",
    "np.sqrt(np.sum((x_train[1]-query_coord[1])**2))"
   ]
  },
  {
   "cell_type": "code",
   "execution_count": 66,
   "metadata": {
    "scrolled": true
   },
   "outputs": [
    {
     "data": {
      "text/plain": [
       "array([0.09141552, 1.88589547])"
      ]
     },
     "execution_count": 66,
     "metadata": {},
     "output_type": "execute_result"
    }
   ],
   "source": [
    "x_train[1]"
   ]
  },
  {
   "cell_type": "code",
   "execution_count": 67,
   "metadata": {},
   "outputs": [
    {
     "data": {
      "text/plain": [
       "array([-1.56414386, -1.32874465])"
      ]
     },
     "execution_count": 67,
     "metadata": {},
     "output_type": "execute_result"
    }
   ],
   "source": [
    "query_coord[1]"
   ]
  },
  {
   "cell_type": "code",
   "execution_count": 65,
   "metadata": {},
   "outputs": [
    {
     "data": {
      "text/plain": [
       "array([2.75567013, 3.61590763])"
      ]
     },
     "execution_count": 65,
     "metadata": {},
     "output_type": "execute_result"
    }
   ],
   "source": [
    "euclidian(x_train[0:2],query_coord[1])"
   ]
  },
  {
   "cell_type": "code",
   "execution_count": 50,
   "metadata": {},
   "outputs": [],
   "source": [
    "k = 5\n",
    "labels_q = np.zeros(len(query_coord))\n",
    "for i in range(len(query_coord)):\n",
    "    labels_q[i] = kNN(x_train,y_train,query_coord[i],k)[0]\n"
   ]
  },
  {
   "cell_type": "code",
   "execution_count": 51,
   "metadata": {},
   "outputs": [
    {
     "data": {
      "image/png": "[encoded data removed]",
      "text/plain": [
       "<Figure size 432x288 with 1 Axes>"
      ]
     },
     "metadata": {
      "needs_background": "light"
     },
     "output_type": "display_data"
    }
   ],
   "source": [
    "plt.scatter(x_train[y_train==0].T[0],x_train[y_train==0].T[1],label=\"y=0\")\n",
    "plt.scatter(x_train[y_train==1].T[0],x_train[y_train==1].T[1],label=\"y=1\")\n",
    "plt.scatter(query_coord[labels_q==1].T[0],query_coord[labels_q==1].T[1],marker='*',color='orange',label='Query y=1',alpha=0.01, s=150)\n",
    "plt.scatter(query_coord[labels_q==0].T[0],query_coord[labels_q==0].T[1],marker='*',color='blue',label='Query y=0',alpha=0.01,s=150)\n",
    "plt.xlabel(\"$x_1$\",fontsize = 15)\n",
    "plt.ylabel(\"$x_2$\",fontsize = 15)\n",
    "plt.title(\"Input samples, color representing labels\",fontsize = 15)\n",
    "plt.legend( bbox_to_anchor=(1.05, 1))\n",
    "plt.show()"
   ]
  },
  {
   "cell_type": "code",
   "execution_count": 23,
   "metadata": {},
   "outputs": [],
   "source": [
    "dist_query = euclidian(x_train,query_coord[-1])\n",
    "dist_query\n",
    "a = np.argsort(dist_query)"
   ]
  },
  {
   "cell_type": "code",
   "execution_count": 19,
   "metadata": {},
   "outputs": [
    {
     "data": {
      "text/plain": [
       "array([[-0.11177192, -0.3089539 ],\n",
       "       [ 1.15274615, -0.19922375],\n",
       "       [ 1.34259669,  0.67009598]])"
      ]
     },
     "execution_count": 19,
     "metadata": {},
     "output_type": "execute_result"
    }
   ],
   "source": [
    "knn = x_train[b][:k]\n",
    "knn"
   ]
  },
  {
   "cell_type": "code",
   "execution_count": 14,
   "metadata": {},
   "outputs": [],
   "source": [
    "b = np.argsort(a)"
   ]
  },
  {
   "cell_type": "code",
   "execution_count": 18,
   "metadata": {},
   "outputs": [
    {
     "data": {
      "text/plain": [
       "array([1., 0., 1.])"
      ]
     },
     "execution_count": 18,
     "metadata": {},
     "output_type": "execute_result"
    }
   ],
   "source": [
    "y_knn = y_train[b][:k]\n",
    "y_knn"
   ]
  },
  {
   "cell_type": "code",
   "execution_count": 55,
   "metadata": {},
   "outputs": [
    {
     "data": {
      "text/plain": [
       "array([3.35410197, 6.10327781])"
      ]
     },
     "execution_count": 55,
     "metadata": {},
     "output_type": "execute_result"
    }
   ],
   "source": [
    "a = np.array([[3,4],[5,6]])\n",
    "b = np.array([1.5,1])\n",
    "np.sqrt(np.sum((a-b)**2,axis=1))"
   ]
  },
  {
   "cell_type": "code",
   "execution_count": 57,
   "metadata": {},
   "outputs": [
    {
     "data": {
      "text/plain": [
       "array([[ 2.25,  9.  ],\n",
       "       [12.25, 25.  ]])"
      ]
     },
     "execution_count": 57,
     "metadata": {},
     "output_type": "execute_result"
    }
   ],
   "source": [
    "(a-b)**2"
   ]
  },
  {
   "cell_type": "code",
   "execution_count": null,
   "metadata": {},
   "outputs": [],
   "source": []
  }
 ],
 "metadata": {
  "kernelspec": {
   "display_name": "Python 3",
   "language": "python",
   "name": "python3"
  },
  "language_info": {
   "codemirror_mode": {
    "name": "ipython",
    "version": 3
   },
   "file_extension": ".py",
   "mimetype": "text/x-python",
   "name": "python",
   "nbconvert_exporter": "python",
   "pygments_lexer": "ipython3",
   "version": "3.6.12"
  }
 },
 "nbformat": 4,
 "nbformat_minor": 4
}
