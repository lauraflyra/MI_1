{
 "cells": [
  {
   "cell_type": "markdown",
   "metadata": {},
   "source": [
    "# Bayesian Networks for Inference\n",
    "## Group: ALT"
   ]
  },
  {
   "cell_type": "code",
   "execution_count": 1,
   "metadata": {},
   "outputs": [],
   "source": [
    "import numpy as np\n",
    "import matplotlib.pyplot as plt"
   ]
  },
  {
   "cell_type": "code",
   "execution_count": 2,
   "metadata": {},
   "outputs": [],
   "source": [
    "from pgmpy.factors.discrete import TabularCPD\n",
    "from pgmpy.models import BayesianModel"
   ]
  },
  {
   "cell_type": "markdown",
   "metadata": {},
   "source": [
    "## H11.2: Software"
   ]
  },
  {
   "cell_type": "code",
   "execution_count": 3,
   "metadata": {},
   "outputs": [],
   "source": [
    "sprinkler_model = BayesianModel([('Cloudy', 'Sprinkler'),\n",
    "                              ('Cloudy', 'Rain'),\n",
    "                              ('Rain', 'WetGrass'),\n",
    "                              ('Sprinkler', 'WetGrass')])\n",
    "\n"
   ]
  },
  {
   "cell_type": "markdown",
   "metadata": {},
   "source": [
    "Cardinality: Number of possible values a node can assume?\n",
    "CPD: conditional probability distribution"
   ]
  },
  {
   "cell_type": "code",
   "execution_count": 4,
   "metadata": {},
   "outputs": [],
   "source": [
    "cpd_cloudy = TabularCPD(variable='Cloudy', variable_card=2,\n",
    "                      values=[[0.5], [0.5]])\n",
    "cpd_sprinkler = TabularCPD(variable='Sprinkler', variable_card=2,\n",
    "                       values=[[0.5,0.9], [0.5,0.1]],\n",
    "                        evidence=['Cloudy'],\n",
    "                        evidence_card=[2])\n",
    "cpd_rain = TabularCPD(variable='Rain', variable_card=2,\n",
    "                        values=[[0.8,0.2],\n",
    "                                [0.2,0.8]],\n",
    "                        evidence=['Cloudy'],\n",
    "                        evidence_card=[2])\n",
    "cpd_grass = TabularCPD(variable='WetGrass', variable_card=2,\n",
    "                      values=[[1.0,0.1,0.1, 0.01], [0., 0.9,0.9,0.99]],\n",
    "                      evidence=['Rain','Sprinkler'], evidence_card=[2,2])"
   ]
  },
  {
   "cell_type": "code",
   "execution_count": 5,
   "metadata": {},
   "outputs": [
    {
     "data": {
      "text/plain": [
       "True"
      ]
     },
     "execution_count": 5,
     "metadata": {},
     "output_type": "execute_result"
    }
   ],
   "source": [
    "# Associating the parameters with the model structure.\n",
    "sprinkler_model.add_cpds(cpd_cloudy, cpd_sprinkler, cpd_rain, cpd_grass)\n",
    "\n",
    "# Checking if the cpds are valid for the model.\n",
    "sprinkler_model.check_model()"
   ]
  },
  {
   "cell_type": "code",
   "execution_count": 6,
   "metadata": {},
   "outputs": [
    {
     "data": {
      "text/plain": [
       "(Cloudy _|_ WetGrass | Rain, Sprinkler)\n",
       "(Sprinkler _|_ Rain | Cloudy)\n",
       "(Rain _|_ Sprinkler | Cloudy)\n",
       "(WetGrass _|_ Cloudy | Rain, Sprinkler)"
      ]
     },
     "execution_count": 6,
     "metadata": {},
     "output_type": "execute_result"
    }
   ],
   "source": [
    "# Get all model implied independence conditions\n",
    "sprinkler_model.get_independencies()"
   ]
  },
  {
   "cell_type": "code",
   "execution_count": 7,
   "metadata": {},
   "outputs": [
    {
     "name": "stdout",
     "output_type": "stream",
     "text": [
      "+-----------+-----+\n",
      "| Cloudy(0) | 0.5 |\n",
      "+-----------+-----+\n",
      "| Cloudy(1) | 0.5 |\n",
      "+-----------+-----+ \n",
      " +--------------+-----------+-----------+\n",
      "| Cloudy       | Cloudy(0) | Cloudy(1) |\n",
      "+--------------+-----------+-----------+\n",
      "| Sprinkler(0) | 0.5       | 0.9       |\n",
      "+--------------+-----------+-----------+\n",
      "| Sprinkler(1) | 0.5       | 0.1       |\n",
      "+--------------+-----------+-----------+ \n",
      " +---------+-----------+-----------+\n",
      "| Cloudy  | Cloudy(0) | Cloudy(1) |\n",
      "+---------+-----------+-----------+\n",
      "| Rain(0) | 0.8       | 0.2       |\n",
      "+---------+-----------+-----------+\n",
      "| Rain(1) | 0.2       | 0.8       |\n",
      "+---------+-----------+-----------+ \n",
      " +-------------+--------------+--------------+--------------+--------------+\n",
      "| Rain        | Rain(0)      | Rain(0)      | Rain(1)      | Rain(1)      |\n",
      "+-------------+--------------+--------------+--------------+--------------+\n",
      "| Sprinkler   | Sprinkler(0) | Sprinkler(1) | Sprinkler(0) | Sprinkler(1) |\n",
      "+-------------+--------------+--------------+--------------+--------------+\n",
      "| WetGrass(0) | 1.0          | 0.1          | 0.1          | 0.01         |\n",
      "+-------------+--------------+--------------+--------------+--------------+\n",
      "| WetGrass(1) | 0.0          | 0.9          | 0.9          | 0.99         |\n",
      "+-------------+--------------+--------------+--------------+--------------+\n"
     ]
    }
   ],
   "source": [
    "print(sprinkler_model.get_cpds('Cloudy'),'\\n',sprinkler_model.get_cpds('Sprinkler'),'\\n',sprinkler_model.get_cpds('Rain'),'\\n',sprinkler_model.get_cpds('WetGrass'))"
   ]
  },
  {
   "cell_type": "code",
   "execution_count": 8,
   "metadata": {},
   "outputs": [],
   "source": [
    "from pgmpy.inference import VariableElimination\n",
    "sprinkler_infer = VariableElimination(sprinkler_model)"
   ]
  },
  {
   "cell_type": "code",
   "execution_count": 9,
   "metadata": {
    "scrolled": true
   },
   "outputs": [
    {
     "name": "stderr",
     "output_type": "stream",
     "text": [
      "Finding Elimination Order: : 100%|██████████| 2/2 [00:00<00:00, 2456.40it/s]\n",
      "Eliminating: Cloudy: 100%|██████████| 2/2 [00:00<00:00, 1186.51it/s]"
     ]
    },
    {
     "name": "stdout",
     "output_type": "stream",
     "text": [
      "+--------------+------------------+\n",
      "| Sprinkler    |   phi(Sprinkler) |\n",
      "+==============+==================+\n",
      "| Sprinkler(0) |           0.5702 |\n",
      "+--------------+------------------+\n",
      "| Sprinkler(1) |           0.4298 |\n",
      "+--------------+------------------+\n"
     ]
    },
    {
     "name": "stderr",
     "output_type": "stream",
     "text": [
      "\n"
     ]
    }
   ],
   "source": [
    "# Computing the probability of active sprinkler given WetGrass=True.\n",
    "sw = sprinkler_infer.query(variables=['Sprinkler'], evidence={'WetGrass': 1})\n",
    "print(sw)"
   ]
  },
  {
   "cell_type": "markdown",
   "metadata": {},
   "source": [
    "P( Sprinkler = True | WetGrass = True ) = 0.4298"
   ]
  },
  {
   "cell_type": "code",
   "execution_count": 10,
   "metadata": {},
   "outputs": [
    {
     "name": "stderr",
     "output_type": "stream",
     "text": [
      "Finding Elimination Order: : 100%|██████████| 1/1 [00:00<00:00, 1628.22it/s]\n",
      "Eliminating: Cloudy: 100%|██████████| 1/1 [00:00<00:00, 531.33it/s]"
     ]
    },
    {
     "name": "stdout",
     "output_type": "stream",
     "text": [
      "+--------------+------------------+\n",
      "| Sprinkler    |   phi(Sprinkler) |\n",
      "+==============+==================+\n",
      "| Sprinkler(0) |           0.8055 |\n",
      "+--------------+------------------+\n",
      "| Sprinkler(1) |           0.1945 |\n",
      "+--------------+------------------+\n"
     ]
    },
    {
     "name": "stderr",
     "output_type": "stream",
     "text": [
      "\n"
     ]
    }
   ],
   "source": [
    "swr = sprinkler_infer.query(variables=['Sprinkler'], evidence={'WetGrass': 1,'Rain':1})\n",
    "print(swr)"
   ]
  },
  {
   "cell_type": "markdown",
   "metadata": {},
   "source": [
    "P( Sprinkler = True | WetGrass = True, Rain = True ) = 0.1945"
   ]
  },
  {
   "cell_type": "markdown",
   "metadata": {},
   "source": [
    "## H11.3: Construction of a DAG"
   ]
  },
  {
   "cell_type": "code",
   "execution_count": 11,
   "metadata": {},
   "outputs": [],
   "source": [
    "dag_model = BayesianModel([('B', 'A'),\n",
    "                              ('E', 'A'),\n",
    "                              ('E', 'R')])"
   ]
  },
  {
   "cell_type": "code",
   "execution_count": 12,
   "metadata": {},
   "outputs": [],
   "source": [
    "cpd_b = TabularCPD(variable='B', variable_card=2,\n",
    "                      values=[[0.99], [0.01]])\n",
    "cpd_e = TabularCPD(variable='E', variable_card=2,\n",
    "                       values=[[1-1e-6],[1e-6]])\n",
    "cpd_r = TabularCPD(variable='R', variable_card=2,\n",
    "                        values=[[1,0],\n",
    "                                [0,1]],\n",
    "                        evidence=['E'],\n",
    "                        evidence_card=[2])\n",
    "cpd_a = TabularCPD(variable='A', variable_card=2,\n",
    "                      values=[[0.999,0.59,0.05, 0.02], [0.001, 0.41,0.95,0.98]],\n",
    "                      evidence=['B','E'], evidence_card=[2,2])"
   ]
  },
  {
   "cell_type": "code",
   "execution_count": 13,
   "metadata": {},
   "outputs": [
    {
     "data": {
      "text/plain": [
       "True"
      ]
     },
     "execution_count": 13,
     "metadata": {},
     "output_type": "execute_result"
    }
   ],
   "source": [
    "dag_model.add_cpds(cpd_b, cpd_e, cpd_r, cpd_a)\n",
    "dag_model.check_model()"
   ]
  },
  {
   "cell_type": "code",
   "execution_count": 14,
   "metadata": {},
   "outputs": [
    {
     "name": "stdout",
     "output_type": "stream",
     "text": [
      "+------+------+\n",
      "| B(0) | 0.99 |\n",
      "+------+------+\n",
      "| B(1) | 0.01 |\n",
      "+------+------+ \n",
      " +------+----------+\n",
      "| E(0) | 0.999999 |\n",
      "+------+----------+\n",
      "| E(1) | 1e-06    |\n",
      "+------+----------+ \n",
      " +------+------+------+\n",
      "| E    | E(0) | E(1) |\n",
      "+------+------+------+\n",
      "| R(0) | 1.0  | 0.0  |\n",
      "+------+------+------+\n",
      "| R(1) | 0.0  | 1.0  |\n",
      "+------+------+------+ \n",
      " +------+-------+------+------+------+\n",
      "| B    | B(0)  | B(0) | B(1) | B(1) |\n",
      "+------+-------+------+------+------+\n",
      "| E    | E(0)  | E(1) | E(0) | E(1) |\n",
      "+------+-------+------+------+------+\n",
      "| A(0) | 0.999 | 0.59 | 0.05 | 0.02 |\n",
      "+------+-------+------+------+------+\n",
      "| A(1) | 0.001 | 0.41 | 0.95 | 0.98 |\n",
      "+------+-------+------+------+------+\n"
     ]
    }
   ],
   "source": [
    "print(dag_model.get_cpds('B'),'\\n',dag_model.get_cpds('E'),'\\n',dag_model.get_cpds('R'),'\\n',dag_model.get_cpds('A'))"
   ]
  },
  {
   "cell_type": "code",
   "execution_count": 15,
   "metadata": {
    "scrolled": true
   },
   "outputs": [
    {
     "name": "stderr",
     "output_type": "stream",
     "text": [
      "Finding Elimination Order: : 100%|██████████| 3/3 [00:00<00:00, 4093.34it/s]\n",
      "Eliminating: B: 100%|██████████| 3/3 [00:00<00:00, 384.43it/s]"
     ]
    },
    {
     "name": "stdout",
     "output_type": "stream",
     "text": [
      "+------+----------+\n",
      "| A    |   phi(A) |\n",
      "+======+==========+\n",
      "| A(0) |   0.9895 |\n",
      "+------+----------+\n",
      "| A(1) |   0.0105 |\n",
      "+------+----------+\n"
     ]
    },
    {
     "name": "stderr",
     "output_type": "stream",
     "text": [
      "\n"
     ]
    }
   ],
   "source": [
    "dag_infer = VariableElimination(dag_model)\n",
    "pA = dag_infer.query(variables=['A'])\n",
    "print(pA)"
   ]
  },
  {
   "cell_type": "markdown",
   "metadata": {},
   "source": [
    "P (A = True) = 0.0105"
   ]
  },
  {
   "cell_type": "code",
   "execution_count": 16,
   "metadata": {},
   "outputs": [
    {
     "name": "stderr",
     "output_type": "stream",
     "text": [
      "Finding Elimination Order: : 100%|██████████| 2/2 [00:00<00:00, 1267.35it/s]\n",
      "Eliminating: E: 100%|██████████| 2/2 [00:00<00:00, 513.91it/s]"
     ]
    },
    {
     "name": "stdout",
     "output_type": "stream",
     "text": [
      "+------+----------+\n",
      "| A    |   phi(A) |\n",
      "+======+==========+\n",
      "| A(0) |   0.5843 |\n",
      "+------+----------+\n",
      "| A(1) |   0.4157 |\n",
      "+------+----------+\n"
     ]
    },
    {
     "name": "stderr",
     "output_type": "stream",
     "text": [
      "\n"
     ]
    }
   ],
   "source": [
    "pAR = dag_infer.query(variables=['A'], evidence={'R': 1})\n",
    "print(pAR)"
   ]
  },
  {
   "cell_type": "markdown",
   "metadata": {},
   "source": [
    "P (A | R = True) = 0.4157"
   ]
  },
  {
   "cell_type": "code",
   "execution_count": 17,
   "metadata": {
    "scrolled": true
   },
   "outputs": [
    {
     "name": "stderr",
     "output_type": "stream",
     "text": [
      "Finding Elimination Order: : 100%|██████████| 2/2 [00:00<00:00, 1119.23it/s]\n",
      "Eliminating: E: 100%|██████████| 2/2 [00:00<00:00, 852.93it/s]"
     ]
    },
    {
     "name": "stdout",
     "output_type": "stream",
     "text": [
      "+------+----------+\n",
      "| B    |   phi(B) |\n",
      "+======+==========+\n",
      "| B(0) |   0.0944 |\n",
      "+------+----------+\n",
      "| B(1) |   0.9056 |\n",
      "+------+----------+\n"
     ]
    },
    {
     "name": "stderr",
     "output_type": "stream",
     "text": [
      "\n"
     ]
    }
   ],
   "source": [
    "pBA = dag_infer.query(variables=['B'], evidence={'A': 1})\n",
    "print(pBA)"
   ]
  },
  {
   "cell_type": "markdown",
   "metadata": {},
   "source": [
    "P (B = True | A = True) = 0.9056"
   ]
  },
  {
   "cell_type": "code",
   "execution_count": 18,
   "metadata": {},
   "outputs": [
    {
     "name": "stderr",
     "output_type": "stream",
     "text": [
      "Finding Elimination Order: : 100%|██████████| 1/1 [00:00<00:00, 1107.55it/s]\n",
      "Eliminating: E: 100%|██████████| 1/1 [00:00<00:00, 734.94it/s]"
     ]
    },
    {
     "name": "stdout",
     "output_type": "stream",
     "text": [
      "+------+----------+\n",
      "| B    |   phi(B) |\n",
      "+======+==========+\n",
      "| B(0) |   0.9764 |\n",
      "+------+----------+\n",
      "| B(1) |   0.0236 |\n",
      "+------+----------+\n"
     ]
    },
    {
     "name": "stderr",
     "output_type": "stream",
     "text": [
      "\n"
     ]
    }
   ],
   "source": [
    "pBAR = dag_infer.query(variables=['B'], evidence={'A': 1, 'R': 1})\n",
    "print(pBAR)"
   ]
  },
  {
   "cell_type": "markdown",
   "metadata": {},
   "source": [
    "P (B = True | A = True, R = True) = 0.0236"
   ]
  },
  {
   "cell_type": "code",
   "execution_count": null,
   "metadata": {},
   "outputs": [],
   "source": []
  }
 ],
 "metadata": {
  "kernelspec": {
   "display_name": "Python 3",
   "language": "python",
   "name": "python3"
  },
  "language_info": {
   "codemirror_mode": {
    "name": "ipython",
    "version": 3
   },
   "file_extension": ".py",
   "mimetype": "text/x-python",
   "name": "python",
   "nbconvert_exporter": "python",
   "pygments_lexer": "ipython3",
   "version": "3.8.3"
  }
 },
 "nbformat": 4,
 "nbformat_minor": 5
}
